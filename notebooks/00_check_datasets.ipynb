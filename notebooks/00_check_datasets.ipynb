# Importação das bibliotecas necessárias para o projeto.
import numpy as np
import pandas as pd
from time import time
from IPython.display import display 

# Importação da biblioteca de visualização visuals.py
#import visuals as vs
import seaborn as sns
import matplotlib.pyplot as plt

# Exibição amigável para notebooks
%matplotlib inline
